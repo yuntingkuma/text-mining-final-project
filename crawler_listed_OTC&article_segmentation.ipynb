{
  "nbformat": 4,
  "nbformat_minor": 0,
  "metadata": {
    "colab": {
      "name": "crawler_listed_OTC&article_segmentation.ipynb",
      "provenance": [],
      "collapsed_sections": []
    },
    "kernelspec": {
      "display_name": "Python 3",
      "language": "python",
      "name": "python3"
    },
    "language_info": {
      "codemirror_mode": {
        "name": "ipython",
        "version": 3
      },
      "file_extension": ".py",
      "mimetype": "text/x-python",
      "name": "python",
      "nbconvert_exporter": "python",
      "pygments_lexer": "ipython3",
      "version": "3.8.8"
    },
    "accelerator": "GPU"
  },
  "cells": [
    {
      "cell_type": "code",
      "metadata": {
        "id": "9OWnkA0BAPtn"
      },
      "source": [
        "import requests\n",
        "import pandas as pd"
      ],
      "execution_count": 1,
      "outputs": []
    },
    {
      "cell_type": "markdown",
      "metadata": {
        "id": "VDUpj04yHHd8"
      },
      "source": [
        "# Crawling the list of listed companies"
      ]
    },
    {
      "cell_type": "code",
      "metadata": {
        "id": "GtVwawADww2_",
        "colab": {
          "base_uri": "https://localhost:8080/"
        },
        "outputId": "01c1c62f-d208-41b4-897a-d0e6c720eee8"
      },
      "source": [
        "import requests\n",
        "import pandas as pd\n",
        "\n",
        "# List of listed companies\n",
        "res = requests.get(\"http://isin.twse.com.tw/isin/C_public.jsp?strMode=2\")\n",
        "df = pd.read_html(res.text)[0]\n",
        "\n",
        "# Set the column name\n",
        "df.columns = df.iloc[0]\n",
        "df.columns"
      ],
      "execution_count": 2,
      "outputs": [
        {
          "output_type": "execute_result",
          "data": {
            "text/plain": [
              "Index(['有價證券代號及名稱', '國際證券辨識號碼(ISIN Code)', '上市日', '市場別', '產業別', 'CFICode',\n",
              "       '備註'],\n",
              "      dtype='object', name=0)"
            ]
          },
          "metadata": {},
          "execution_count": 2
        }
      ]
    },
    {
      "cell_type": "code",
      "metadata": {
        "id": "shqO7RhJHHeB",
        "colab": {
          "base_uri": "https://localhost:8080/",
          "height": 424
        },
        "outputId": "c34cad1f-cf8b-43ad-cf0e-efc432cea6da"
      },
      "source": [
        "# Delete the first row\n",
        "df = df.iloc[1:]\n",
        "df"
      ],
      "execution_count": 3,
      "outputs": [
        {
          "output_type": "execute_result",
          "data": {
            "text/html": [
              "<div>\n",
              "<style scoped>\n",
              "    .dataframe tbody tr th:only-of-type {\n",
              "        vertical-align: middle;\n",
              "    }\n",
              "\n",
              "    .dataframe tbody tr th {\n",
              "        vertical-align: top;\n",
              "    }\n",
              "\n",
              "    .dataframe thead th {\n",
              "        text-align: right;\n",
              "    }\n",
              "</style>\n",
              "<table border=\"1\" class=\"dataframe\">\n",
              "  <thead>\n",
              "    <tr style=\"text-align: right;\">\n",
              "      <th></th>\n",
              "      <th>有價證券代號及名稱</th>\n",
              "      <th>國際證券辨識號碼(ISIN Code)</th>\n",
              "      <th>上市日</th>\n",
              "      <th>市場別</th>\n",
              "      <th>產業別</th>\n",
              "      <th>CFICode</th>\n",
              "      <th>備註</th>\n",
              "    </tr>\n",
              "  </thead>\n",
              "  <tbody>\n",
              "    <tr>\n",
              "      <th>1</th>\n",
              "      <td>股票</td>\n",
              "      <td>股票</td>\n",
              "      <td>股票</td>\n",
              "      <td>股票</td>\n",
              "      <td>股票</td>\n",
              "      <td>股票</td>\n",
              "      <td>股票</td>\n",
              "    </tr>\n",
              "    <tr>\n",
              "      <th>2</th>\n",
              "      <td>1101　台泥</td>\n",
              "      <td>TW0001101004</td>\n",
              "      <td>1962/02/09</td>\n",
              "      <td>上市</td>\n",
              "      <td>水泥工業</td>\n",
              "      <td>ESVUFR</td>\n",
              "      <td>NaN</td>\n",
              "    </tr>\n",
              "    <tr>\n",
              "      <th>3</th>\n",
              "      <td>1102　亞泥</td>\n",
              "      <td>TW0001102002</td>\n",
              "      <td>1962/06/08</td>\n",
              "      <td>上市</td>\n",
              "      <td>水泥工業</td>\n",
              "      <td>ESVUFR</td>\n",
              "      <td>NaN</td>\n",
              "    </tr>\n",
              "    <tr>\n",
              "      <th>4</th>\n",
              "      <td>1103　嘉泥</td>\n",
              "      <td>TW0001103000</td>\n",
              "      <td>1969/11/14</td>\n",
              "      <td>上市</td>\n",
              "      <td>水泥工業</td>\n",
              "      <td>ESVUFR</td>\n",
              "      <td>NaN</td>\n",
              "    </tr>\n",
              "    <tr>\n",
              "      <th>5</th>\n",
              "      <td>1104　環泥</td>\n",
              "      <td>TW0001104008</td>\n",
              "      <td>1971/02/01</td>\n",
              "      <td>上市</td>\n",
              "      <td>水泥工業</td>\n",
              "      <td>ESVUFR</td>\n",
              "      <td>NaN</td>\n",
              "    </tr>\n",
              "    <tr>\n",
              "      <th>...</th>\n",
              "      <td>...</td>\n",
              "      <td>...</td>\n",
              "      <td>...</td>\n",
              "      <td>...</td>\n",
              "      <td>...</td>\n",
              "      <td>...</td>\n",
              "      <td>...</td>\n",
              "    </tr>\n",
              "    <tr>\n",
              "      <th>23912</th>\n",
              "      <td>01003T　兆豐新光R1</td>\n",
              "      <td>TW00001003T4</td>\n",
              "      <td>2005/12/26</td>\n",
              "      <td>上市</td>\n",
              "      <td>NaN</td>\n",
              "      <td>CBCIXU</td>\n",
              "      <td>NaN</td>\n",
              "    </tr>\n",
              "    <tr>\n",
              "      <th>23913</th>\n",
              "      <td>01004T　土銀富邦R2</td>\n",
              "      <td>TW00001004T2</td>\n",
              "      <td>2006/04/13</td>\n",
              "      <td>上市</td>\n",
              "      <td>NaN</td>\n",
              "      <td>CBCIXU</td>\n",
              "      <td>NaN</td>\n",
              "    </tr>\n",
              "    <tr>\n",
              "      <th>23914</th>\n",
              "      <td>01007T　兆豐國泰R2</td>\n",
              "      <td>TW00001007T5</td>\n",
              "      <td>2006/10/13</td>\n",
              "      <td>上市</td>\n",
              "      <td>NaN</td>\n",
              "      <td>CBCIXU</td>\n",
              "      <td>NaN</td>\n",
              "    </tr>\n",
              "    <tr>\n",
              "      <th>23915</th>\n",
              "      <td>01009T　王道圓滿R1</td>\n",
              "      <td>TW00001009T1</td>\n",
              "      <td>2018/06/21</td>\n",
              "      <td>上市</td>\n",
              "      <td>NaN</td>\n",
              "      <td>CBCIXU</td>\n",
              "      <td>NaN</td>\n",
              "    </tr>\n",
              "    <tr>\n",
              "      <th>23916</th>\n",
              "      <td>01010T　京城樂富R1</td>\n",
              "      <td>TW00001010T9</td>\n",
              "      <td>2018/12/05</td>\n",
              "      <td>上市</td>\n",
              "      <td>NaN</td>\n",
              "      <td>CBCIXU</td>\n",
              "      <td>NaN</td>\n",
              "    </tr>\n",
              "  </tbody>\n",
              "</table>\n",
              "<p>23916 rows × 7 columns</p>\n",
              "</div>"
            ],
            "text/plain": [
              "0          有價證券代號及名稱 國際證券辨識號碼(ISIN Code)         上市日 市場別   產業別 CFICode   備註\n",
              "1                 股票                  股票          股票  股票    股票      股票   股票\n",
              "2            1101　台泥        TW0001101004  1962/02/09  上市  水泥工業  ESVUFR  NaN\n",
              "3            1102　亞泥        TW0001102002  1962/06/08  上市  水泥工業  ESVUFR  NaN\n",
              "4            1103　嘉泥        TW0001103000  1969/11/14  上市  水泥工業  ESVUFR  NaN\n",
              "5            1104　環泥        TW0001104008  1971/02/01  上市  水泥工業  ESVUFR  NaN\n",
              "...              ...                 ...         ...  ..   ...     ...  ...\n",
              "23912  01003T　兆豐新光R1        TW00001003T4  2005/12/26  上市   NaN  CBCIXU  NaN\n",
              "23913  01004T　土銀富邦R2        TW00001004T2  2006/04/13  上市   NaN  CBCIXU  NaN\n",
              "23914  01007T　兆豐國泰R2        TW00001007T5  2006/10/13  上市   NaN  CBCIXU  NaN\n",
              "23915  01009T　王道圓滿R1        TW00001009T1  2018/06/21  上市   NaN  CBCIXU  NaN\n",
              "23916  01010T　京城樂富R1        TW00001010T9  2018/12/05  上市   NaN  CBCIXU  NaN\n",
              "\n",
              "[23916 rows x 7 columns]"
            ]
          },
          "metadata": {},
          "execution_count": 3
        }
      ]
    },
    {
      "cell_type": "code",
      "metadata": {
        "id": "9MT_6ArNHHeC",
        "colab": {
          "base_uri": "https://localhost:8080/"
        },
        "outputId": "af94f32a-ae44-4e12-c6ff-7e6e7063ab21"
      },
      "source": [
        "stock_list = list(df['有價證券代號及名稱'])\n",
        "stock_list[:11]"
      ],
      "execution_count": 8,
      "outputs": [
        {
          "output_type": "execute_result",
          "data": {
            "text/plain": [
              "['股票',\n",
              " '1101\\u3000台泥',\n",
              " '1102\\u3000亞泥',\n",
              " '1103\\u3000嘉泥',\n",
              " '1104\\u3000環泥',\n",
              " '1108\\u3000幸福',\n",
              " '1109\\u3000信大',\n",
              " '1110\\u3000東泥',\n",
              " '1201\\u3000味全',\n",
              " '1203\\u3000味王',\n",
              " '1210\\u3000大成']"
            ]
          },
          "metadata": {},
          "execution_count": 8
        }
      ]
    },
    {
      "cell_type": "markdown",
      "metadata": {
        "id": "XkEaghz4HHeC"
      },
      "source": [
        "# Crawl the list of listed companies"
      ]
    },
    {
      "cell_type": "code",
      "metadata": {
        "id": "i2AciZfLww3A",
        "colab": {
          "base_uri": "https://localhost:8080/",
          "height": 424
        },
        "outputId": "b22a0f14-f203-4aaa-a6d1-75a88bdab242"
      },
      "source": [
        "# List of OTC Companies\n",
        "res = requests.get(\"http://isin.twse.com.tw/isin/C_public.jsp?strMode=4\")\n",
        "df = pd.read_html(res.text)[0]\n",
        "df"
      ],
      "execution_count": 9,
      "outputs": [
        {
          "output_type": "execute_result",
          "data": {
            "text/html": [
              "<div>\n",
              "<style scoped>\n",
              "    .dataframe tbody tr th:only-of-type {\n",
              "        vertical-align: middle;\n",
              "    }\n",
              "\n",
              "    .dataframe tbody tr th {\n",
              "        vertical-align: top;\n",
              "    }\n",
              "\n",
              "    .dataframe thead th {\n",
              "        text-align: right;\n",
              "    }\n",
              "</style>\n",
              "<table border=\"1\" class=\"dataframe\">\n",
              "  <thead>\n",
              "    <tr style=\"text-align: right;\">\n",
              "      <th></th>\n",
              "      <th>0</th>\n",
              "      <th>1</th>\n",
              "      <th>2</th>\n",
              "      <th>3</th>\n",
              "      <th>4</th>\n",
              "      <th>5</th>\n",
              "      <th>6</th>\n",
              "    </tr>\n",
              "  </thead>\n",
              "  <tbody>\n",
              "    <tr>\n",
              "      <th>0</th>\n",
              "      <td>有價證券代號及名稱</td>\n",
              "      <td>國際證券辨識號碼(ISIN Code)</td>\n",
              "      <td>上市日</td>\n",
              "      <td>市場別</td>\n",
              "      <td>產業別</td>\n",
              "      <td>CFICode</td>\n",
              "      <td>備註</td>\n",
              "    </tr>\n",
              "    <tr>\n",
              "      <th>1</th>\n",
              "      <td>上櫃認購(售)權證</td>\n",
              "      <td>上櫃認購(售)權證</td>\n",
              "      <td>上櫃認購(售)權證</td>\n",
              "      <td>上櫃認購(售)權證</td>\n",
              "      <td>上櫃認購(售)權證</td>\n",
              "      <td>上櫃認購(售)權證</td>\n",
              "      <td>上櫃認購(售)權證</td>\n",
              "    </tr>\n",
              "    <tr>\n",
              "      <th>2</th>\n",
              "      <td>70001P　同致國票12售01</td>\n",
              "      <td>TW21Z70001P3</td>\n",
              "      <td>2021/08/03</td>\n",
              "      <td>上櫃</td>\n",
              "      <td>NaN</td>\n",
              "      <td>RWSCPE</td>\n",
              "      <td>NaN</td>\n",
              "    </tr>\n",
              "    <tr>\n",
              "      <th>3</th>\n",
              "      <td>70002P　網家康和12售01</td>\n",
              "      <td>TW21Z70002P1</td>\n",
              "      <td>2021/08/04</td>\n",
              "      <td>上櫃</td>\n",
              "      <td>NaN</td>\n",
              "      <td>RWSCPE</td>\n",
              "      <td>NaN</td>\n",
              "    </tr>\n",
              "    <tr>\n",
              "      <th>4</th>\n",
              "      <td>70003P　佳邦元大13售02</td>\n",
              "      <td>TW21Z70003P9</td>\n",
              "      <td>2021/08/04</td>\n",
              "      <td>上櫃</td>\n",
              "      <td>NaN</td>\n",
              "      <td>RWSCPE</td>\n",
              "      <td>NaN</td>\n",
              "    </tr>\n",
              "    <tr>\n",
              "      <th>...</th>\n",
              "      <td>...</td>\n",
              "      <td>...</td>\n",
              "      <td>...</td>\n",
              "      <td>...</td>\n",
              "      <td>...</td>\n",
              "      <td>...</td>\n",
              "      <td>...</td>\n",
              "    </tr>\n",
              "    <tr>\n",
              "      <th>7055</th>\n",
              "      <td>01017S　93中信貸d</td>\n",
              "      <td>TW00001017S6</td>\n",
              "      <td>2004/08/10</td>\n",
              "      <td>上櫃</td>\n",
              "      <td>NaN</td>\n",
              "      <td>DAVUBR</td>\n",
              "      <td>NaN</td>\n",
              "    </tr>\n",
              "    <tr>\n",
              "      <th>7056</th>\n",
              "      <td>01109S　051中租賃A</td>\n",
              "      <td>TW00001109S1</td>\n",
              "      <td>2016/08/24</td>\n",
              "      <td>上櫃</td>\n",
              "      <td>NaN</td>\n",
              "      <td>DAFUBR</td>\n",
              "      <td>NaN</td>\n",
              "    </tr>\n",
              "    <tr>\n",
              "      <th>7057</th>\n",
              "      <td>01110S　051中租賃B</td>\n",
              "      <td>TW00001110S9</td>\n",
              "      <td>2016/08/24</td>\n",
              "      <td>上櫃</td>\n",
              "      <td>NaN</td>\n",
              "      <td>DAFUBR</td>\n",
              "      <td>NaN</td>\n",
              "    </tr>\n",
              "    <tr>\n",
              "      <th>7058</th>\n",
              "      <td>01111S　081中租賃A</td>\n",
              "      <td>TW00001111S7</td>\n",
              "      <td>2019/12/11</td>\n",
              "      <td>上櫃</td>\n",
              "      <td>NaN</td>\n",
              "      <td>DAFUFR</td>\n",
              "      <td>NaN</td>\n",
              "    </tr>\n",
              "    <tr>\n",
              "      <th>7059</th>\n",
              "      <td>01112S　081中租賃B</td>\n",
              "      <td>TW00001112S5</td>\n",
              "      <td>2019/12/11</td>\n",
              "      <td>上櫃</td>\n",
              "      <td>NaN</td>\n",
              "      <td>DAFUFR</td>\n",
              "      <td>NaN</td>\n",
              "    </tr>\n",
              "  </tbody>\n",
              "</table>\n",
              "<p>7060 rows × 7 columns</p>\n",
              "</div>"
            ],
            "text/plain": [
              "                     0                    1  ...          5          6\n",
              "0            有價證券代號及名稱  國際證券辨識號碼(ISIN Code)  ...    CFICode         備註\n",
              "1            上櫃認購(售)權證            上櫃認購(售)權證  ...  上櫃認購(售)權證  上櫃認購(售)權證\n",
              "2     70001P　同致國票12售01         TW21Z70001P3  ...     RWSCPE        NaN\n",
              "3     70002P　網家康和12售01         TW21Z70002P1  ...     RWSCPE        NaN\n",
              "4     70003P　佳邦元大13售02         TW21Z70003P9  ...     RWSCPE        NaN\n",
              "...                ...                  ...  ...        ...        ...\n",
              "7055     01017S　93中信貸d         TW00001017S6  ...     DAVUBR        NaN\n",
              "7056    01109S　051中租賃A         TW00001109S1  ...     DAFUBR        NaN\n",
              "7057    01110S　051中租賃B         TW00001110S9  ...     DAFUBR        NaN\n",
              "7058    01111S　081中租賃A         TW00001111S7  ...     DAFUFR        NaN\n",
              "7059    01112S　081中租賃B         TW00001112S5  ...     DAFUFR        NaN\n",
              "\n",
              "[7060 rows x 7 columns]"
            ]
          },
          "metadata": {},
          "execution_count": 9
        }
      ]
    },
    {
      "cell_type": "code",
      "metadata": {
        "id": "Oe2rwnXnHHeE",
        "colab": {
          "base_uri": "https://localhost:8080/"
        },
        "outputId": "1b82840c-6f91-4a19-bac1-46e53ec8e78f"
      },
      "source": [
        "# Set the column name\n",
        "df.columns = df.iloc[0]\n",
        "df.columns"
      ],
      "execution_count": 10,
      "outputs": [
        {
          "output_type": "execute_result",
          "data": {
            "text/plain": [
              "Index(['有價證券代號及名稱', '國際證券辨識號碼(ISIN Code)', '上市日', '市場別', '產業別', 'CFICode',\n",
              "       '備註'],\n",
              "      dtype='object', name=0)"
            ]
          },
          "metadata": {},
          "execution_count": 10
        }
      ]
    },
    {
      "cell_type": "code",
      "metadata": {
        "id": "HcGqliA-HHeF",
        "colab": {
          "base_uri": "https://localhost:8080/",
          "height": 424
        },
        "outputId": "6f2c36d2-6969-4784-8b23-9d7385363b02"
      },
      "source": [
        "# Delete the first row\n",
        "df = df.iloc[1:]\n",
        "df"
      ],
      "execution_count": 11,
      "outputs": [
        {
          "output_type": "execute_result",
          "data": {
            "text/html": [
              "<div>\n",
              "<style scoped>\n",
              "    .dataframe tbody tr th:only-of-type {\n",
              "        vertical-align: middle;\n",
              "    }\n",
              "\n",
              "    .dataframe tbody tr th {\n",
              "        vertical-align: top;\n",
              "    }\n",
              "\n",
              "    .dataframe thead th {\n",
              "        text-align: right;\n",
              "    }\n",
              "</style>\n",
              "<table border=\"1\" class=\"dataframe\">\n",
              "  <thead>\n",
              "    <tr style=\"text-align: right;\">\n",
              "      <th></th>\n",
              "      <th>有價證券代號及名稱</th>\n",
              "      <th>國際證券辨識號碼(ISIN Code)</th>\n",
              "      <th>上市日</th>\n",
              "      <th>市場別</th>\n",
              "      <th>產業別</th>\n",
              "      <th>CFICode</th>\n",
              "      <th>備註</th>\n",
              "    </tr>\n",
              "  </thead>\n",
              "  <tbody>\n",
              "    <tr>\n",
              "      <th>1</th>\n",
              "      <td>上櫃認購(售)權證</td>\n",
              "      <td>上櫃認購(售)權證</td>\n",
              "      <td>上櫃認購(售)權證</td>\n",
              "      <td>上櫃認購(售)權證</td>\n",
              "      <td>上櫃認購(售)權證</td>\n",
              "      <td>上櫃認購(售)權證</td>\n",
              "      <td>上櫃認購(售)權證</td>\n",
              "    </tr>\n",
              "    <tr>\n",
              "      <th>2</th>\n",
              "      <td>70001P　同致國票12售01</td>\n",
              "      <td>TW21Z70001P3</td>\n",
              "      <td>2021/08/03</td>\n",
              "      <td>上櫃</td>\n",
              "      <td>NaN</td>\n",
              "      <td>RWSCPE</td>\n",
              "      <td>NaN</td>\n",
              "    </tr>\n",
              "    <tr>\n",
              "      <th>3</th>\n",
              "      <td>70002P　網家康和12售01</td>\n",
              "      <td>TW21Z70002P1</td>\n",
              "      <td>2021/08/04</td>\n",
              "      <td>上櫃</td>\n",
              "      <td>NaN</td>\n",
              "      <td>RWSCPE</td>\n",
              "      <td>NaN</td>\n",
              "    </tr>\n",
              "    <tr>\n",
              "      <th>4</th>\n",
              "      <td>70003P　佳邦元大13售02</td>\n",
              "      <td>TW21Z70003P9</td>\n",
              "      <td>2021/08/04</td>\n",
              "      <td>上櫃</td>\n",
              "      <td>NaN</td>\n",
              "      <td>RWSCPE</td>\n",
              "      <td>NaN</td>\n",
              "    </tr>\n",
              "    <tr>\n",
              "      <th>5</th>\n",
              "      <td>70004P　環球晶元大13售03</td>\n",
              "      <td>TW21Z70004P7</td>\n",
              "      <td>2021/08/04</td>\n",
              "      <td>上櫃</td>\n",
              "      <td>NaN</td>\n",
              "      <td>RWSCPE</td>\n",
              "      <td>NaN</td>\n",
              "    </tr>\n",
              "    <tr>\n",
              "      <th>...</th>\n",
              "      <td>...</td>\n",
              "      <td>...</td>\n",
              "      <td>...</td>\n",
              "      <td>...</td>\n",
              "      <td>...</td>\n",
              "      <td>...</td>\n",
              "      <td>...</td>\n",
              "    </tr>\n",
              "    <tr>\n",
              "      <th>7055</th>\n",
              "      <td>01017S　93中信貸d</td>\n",
              "      <td>TW00001017S6</td>\n",
              "      <td>2004/08/10</td>\n",
              "      <td>上櫃</td>\n",
              "      <td>NaN</td>\n",
              "      <td>DAVUBR</td>\n",
              "      <td>NaN</td>\n",
              "    </tr>\n",
              "    <tr>\n",
              "      <th>7056</th>\n",
              "      <td>01109S　051中租賃A</td>\n",
              "      <td>TW00001109S1</td>\n",
              "      <td>2016/08/24</td>\n",
              "      <td>上櫃</td>\n",
              "      <td>NaN</td>\n",
              "      <td>DAFUBR</td>\n",
              "      <td>NaN</td>\n",
              "    </tr>\n",
              "    <tr>\n",
              "      <th>7057</th>\n",
              "      <td>01110S　051中租賃B</td>\n",
              "      <td>TW00001110S9</td>\n",
              "      <td>2016/08/24</td>\n",
              "      <td>上櫃</td>\n",
              "      <td>NaN</td>\n",
              "      <td>DAFUBR</td>\n",
              "      <td>NaN</td>\n",
              "    </tr>\n",
              "    <tr>\n",
              "      <th>7058</th>\n",
              "      <td>01111S　081中租賃A</td>\n",
              "      <td>TW00001111S7</td>\n",
              "      <td>2019/12/11</td>\n",
              "      <td>上櫃</td>\n",
              "      <td>NaN</td>\n",
              "      <td>DAFUFR</td>\n",
              "      <td>NaN</td>\n",
              "    </tr>\n",
              "    <tr>\n",
              "      <th>7059</th>\n",
              "      <td>01112S　081中租賃B</td>\n",
              "      <td>TW00001112S5</td>\n",
              "      <td>2019/12/11</td>\n",
              "      <td>上櫃</td>\n",
              "      <td>NaN</td>\n",
              "      <td>DAFUFR</td>\n",
              "      <td>NaN</td>\n",
              "    </tr>\n",
              "  </tbody>\n",
              "</table>\n",
              "<p>7059 rows × 7 columns</p>\n",
              "</div>"
            ],
            "text/plain": [
              "0             有價證券代號及名稱 國際證券辨識號碼(ISIN Code)  ...    CFICode         備註\n",
              "1             上櫃認購(售)權證           上櫃認購(售)權證  ...  上櫃認購(售)權證  上櫃認購(售)權證\n",
              "2      70001P　同致國票12售01        TW21Z70001P3  ...     RWSCPE        NaN\n",
              "3      70002P　網家康和12售01        TW21Z70002P1  ...     RWSCPE        NaN\n",
              "4      70003P　佳邦元大13售02        TW21Z70003P9  ...     RWSCPE        NaN\n",
              "5     70004P　環球晶元大13售03        TW21Z70004P7  ...     RWSCPE        NaN\n",
              "...                 ...                 ...  ...        ...        ...\n",
              "7055      01017S　93中信貸d        TW00001017S6  ...     DAVUBR        NaN\n",
              "7056     01109S　051中租賃A        TW00001109S1  ...     DAFUBR        NaN\n",
              "7057     01110S　051中租賃B        TW00001110S9  ...     DAFUBR        NaN\n",
              "7058     01111S　081中租賃A        TW00001111S7  ...     DAFUFR        NaN\n",
              "7059     01112S　081中租賃B        TW00001112S5  ...     DAFUFR        NaN\n",
              "\n",
              "[7059 rows x 7 columns]"
            ]
          },
          "metadata": {},
          "execution_count": 11
        }
      ]
    },
    {
      "cell_type": "code",
      "metadata": {
        "id": "Zz0-vbY2HHeF",
        "colab": {
          "base_uri": "https://localhost:8080/"
        },
        "outputId": "698fbb96-2e5d-4c56-c5bc-622d31adc82c"
      },
      "source": [
        "# Take out the stock code and name\n",
        "stock_list += list(df['有價證券代號及名稱'])\n",
        "stock_list[:10]"
      ],
      "execution_count": 13,
      "outputs": [
        {
          "output_type": "execute_result",
          "data": {
            "text/plain": [
              "['股票',\n",
              " '1101\\u3000台泥',\n",
              " '1102\\u3000亞泥',\n",
              " '1103\\u3000嘉泥',\n",
              " '1104\\u3000環泥',\n",
              " '1108\\u3000幸福',\n",
              " '1109\\u3000信大',\n",
              " '1110\\u3000東泥',\n",
              " '1201\\u3000味全',\n",
              " '1203\\u3000味王',\n",
              " '1210\\u3000大成']"
            ]
          },
          "metadata": {},
          "execution_count": 13
        }
      ]
    },
    {
      "cell_type": "markdown",
      "metadata": {
        "id": "cFtdNJTuHHeG"
      },
      "source": [
        "## Use the re module in python to extract only the stock name"
      ]
    },
    {
      "cell_type": "code",
      "metadata": {
        "id": "4UkZAVfFww3B",
        "colab": {
          "base_uri": "https://localhost:8080/"
        },
        "outputId": "518f943c-8d30-4d00-a479-01d0fb4253e6"
      },
      "source": [
        "stocks_list = []\n",
        "import re\n",
        "for i in range(0,len(stock_list)):\n",
        "    r1 = '[abcdefghijklmnopqrstuvwxyzABCDEFGHIJKLMNOPQRSTUVWXYZ0123456789’!\"#$%&\\'()*+,-./:;<=>?@，。?★、…【】《》？“”‘’！[\\\\]^_`{|}~]+'\n",
        "    x = re.sub(r1, '', stock_list[i])\n",
        "    \n",
        "    #print(x)\n",
        "    stocks_list.append(x.replace(u'\\u3000',u''))\n",
        "\n",
        "stocks_list.remove('股票')\n",
        "print(len(stocks_list))\n",
        "print(stocks_list[:10])"
      ],
      "execution_count": 16,
      "outputs": [
        {
          "output_type": "stream",
          "name": "stdout",
          "text": [
            "38033\n",
            "['台泥', '亞泥', '嘉泥', '環泥', '幸福', '信大', '東泥', '味全', '味王', '大成', '大飲']\n"
          ]
        }
      ]
    },
    {
      "cell_type": "code",
      "metadata": {
        "id": "nthZQox5Ve9n"
      },
      "source": [
        "# remove the empty value\n",
        "while True:\n",
        "  try:\n",
        "   stocks_list.pop(stocks_list.index(''))\n",
        "  except ValueError:\n",
        "    break\n",
        "\n",
        "while True:\n",
        "  try:\n",
        "   stocks_list.pop(stocks_list.index('股票'))\n",
        "  except ValueError:\n",
        "    break"
      ],
      "execution_count": 17,
      "outputs": []
    },
    {
      "cell_type": "code",
      "metadata": {
        "id": "7NDmy1G6VMLs",
        "colab": {
          "base_uri": "https://localhost:8080/"
        },
        "outputId": "32d47eb8-5fc5-44e2-93f8-97ab7ac25795"
      },
      "source": [
        "print(len(stocks_list))\n",
        "print(stocks_list[:10])"
      ],
      "execution_count": 18,
      "outputs": [
        {
          "output_type": "stream",
          "name": "stdout",
          "text": [
            "38012\n",
            "['台泥', '亞泥', '嘉泥', '環泥', '幸福', '信大', '東泥', '味全', '味王', '大成', '大飲']\n"
          ]
        }
      ]
    },
    {
      "cell_type": "markdown",
      "metadata": {
        "id": "_GBgzAt_HHeI"
      },
      "source": [
        "## Use the filter() to extract only the stock code"
      ]
    },
    {
      "cell_type": "code",
      "metadata": {
        "colab": {
          "base_uri": "https://localhost:8080/"
        },
        "id": "F9d91hK7yPa3",
        "outputId": "df4ff171-8f40-4177-b3fc-991925263157"
      },
      "source": [
        "stockcode_list = []\n",
        "import re\n",
        "for i in range(0,len(stock_list)):\n",
        "    new = filter(str.isdigit, stock_list[i])\n",
        "    stockcode_list.append(''.join(new))\n",
        "\n",
        "\n",
        "stockcode_list.remove('')\n",
        "print(stockcode_list[:10])"
      ],
      "execution_count": 19,
      "outputs": [
        {
          "output_type": "stream",
          "name": "stdout",
          "text": [
            "['1101', '1102', '1103', '1104', '1108', '1109', '1110', '1201', '1203', '1210']\n"
          ]
        }
      ]
    },
    {
      "cell_type": "code",
      "metadata": {
        "id": "fIh-72ZCv843"
      },
      "source": [
        "path = 'Stocks_list.txt'\n",
        "f = open(path, 'w')\n",
        "for i in stocks_list:\n",
        "  f.write(i+'\\n')\n",
        "f.close()"
      ],
      "execution_count": 20,
      "outputs": []
    },
    {
      "cell_type": "code",
      "metadata": {
        "id": "fSJL2FYMy-Ka"
      },
      "source": [
        "import json\n",
        "\n",
        "with open('2018Stock(1).json',encoding=\"utf-8\") as f:\n",
        "     data = json.load(f)"
      ],
      "execution_count": 21,
      "outputs": []
    },
    {
      "cell_type": "code",
      "metadata": {
        "colab": {
          "base_uri": "https://localhost:8080/"
        },
        "id": "fACUfT_szWS3",
        "outputId": "1729756f-3b16-4a74-da44-d81a0f19b1af"
      },
      "source": [
        "articles_title = []\n",
        "articles_date = []\n",
        "\n",
        "for d in data['articles']:\n",
        "  try:\n",
        "    articles_title.append(d['article_title'])\n",
        "    articles_date.append(d['date'])\n",
        "  except:\n",
        "    print(d)"
      ],
      "execution_count": 22,
      "outputs": [
        {
          "output_type": "stream",
          "name": "stdout",
          "text": [
            "{'error': 'invalid url'}\n"
          ]
        }
      ]
    },
    {
      "cell_type": "code",
      "metadata": {
        "colab": {
          "base_uri": "https://localhost:8080/"
        },
        "id": "ZbLyYbmnN1qd",
        "outputId": "e858b9fc-7790-4fac-e193-26f9bc98939f"
      },
      "source": [
        "with open('2018Stock(2).json',encoding=\"utf-8\") as f:\n",
        "     data = json.load(f)\n",
        "for d in data['articles']:\n",
        "  try:\n",
        "    articles_title.append(d['article_title'])\n",
        "    articles_date.append(d['date'])\n",
        "  except:\n",
        "    print(d)\n",
        "\n",
        "with open('20192020Stock(1).json',encoding=\"utf-8\") as f:\n",
        "     data = json.load(f)\n",
        "for d in data['articles']:\n",
        "  try:\n",
        "    articles_title.append(d['article_title'])\n",
        "    articles_date.append(d['date'])\n",
        "  except:\n",
        "    print(d)\n",
        "    \n",
        "with open('20192020Stock(2).json',encoding=\"utf-8\") as f:\n",
        "     data = json.load(f)\n",
        "for d in data['articles']:\n",
        "  try:\n",
        "    articles_title.append(d['article_title'])\n",
        "    articles_date.append(d['date'])\n",
        "  except:\n",
        "    print(d)\n",
        "\n",
        "with open('20192020Stock(3).json',encoding=\"utf-8\") as f:\n",
        "     data = json.load(f)\n",
        "for d in data['articles']:\n",
        "  try:\n",
        "    articles_title.append(d['article_title'])\n",
        "    articles_date.append(d['date'])\n",
        "  except:\n",
        "    print(d)"
      ],
      "execution_count": 23,
      "outputs": [
        {
          "output_type": "stream",
          "name": "stdout",
          "text": [
            "{'error': 'invalid url'}\n",
            "{'error': 'invalid url'}\n"
          ]
        }
      ]
    },
    {
      "cell_type": "code",
      "metadata": {
        "id": "YZIciWLuzXRM"
      },
      "source": [
        "df = pd.DataFrame({'date':articles_date,'article':articles_title})"
      ],
      "execution_count": 25,
      "outputs": []
    },
    {
      "cell_type": "code",
      "metadata": {
        "colab": {
          "base_uri": "https://localhost:8080/",
          "height": 424
        },
        "id": "sMT_aW_uAWGw",
        "outputId": "615a3bfc-9c64-46ed-b779-82356f1200bd"
      },
      "source": [
        "df"
      ],
      "execution_count": 26,
      "outputs": [
        {
          "output_type": "execute_result",
          "data": {
            "text/html": [
              "<div>\n",
              "<style scoped>\n",
              "    .dataframe tbody tr th:only-of-type {\n",
              "        vertical-align: middle;\n",
              "    }\n",
              "\n",
              "    .dataframe tbody tr th {\n",
              "        vertical-align: top;\n",
              "    }\n",
              "\n",
              "    .dataframe thead th {\n",
              "        text-align: right;\n",
              "    }\n",
              "</style>\n",
              "<table border=\"1\" class=\"dataframe\">\n",
              "  <thead>\n",
              "    <tr style=\"text-align: right;\">\n",
              "      <th></th>\n",
              "      <th>date</th>\n",
              "      <th>article</th>\n",
              "    </tr>\n",
              "  </thead>\n",
              "  <tbody>\n",
              "    <tr>\n",
              "      <th>0</th>\n",
              "      <td>Mon Jan  1 09:23:39 2018</td>\n",
              "      <td>[新聞] 陸徵環保稅 台商負擔變重</td>\n",
              "    </tr>\n",
              "    <tr>\n",
              "      <th>1</th>\n",
              "      <td>Mon Jan  1 10:01:50 2018</td>\n",
              "      <td>[新聞] 政策年年改 嚴凱泰：無所適從</td>\n",
              "    </tr>\n",
              "    <tr>\n",
              "      <th>2</th>\n",
              "      <td>Mon Jan  1 12:13:32 2018</td>\n",
              "      <td>[標的] 3450 聯鈞 多</td>\n",
              "    </tr>\n",
              "    <tr>\n",
              "      <th>3</th>\n",
              "      <td>Mon Jan  1 13:04:00 2018</td>\n",
              "      <td>[標的] 8039台虹多</td>\n",
              "    </tr>\n",
              "    <tr>\n",
              "      <th>4</th>\n",
              "      <td>Mon Jan  1 13:24:11 2018</td>\n",
              "      <td>[請益] 追高殺低長期能賺錢嗎?</td>\n",
              "    </tr>\n",
              "    <tr>\n",
              "      <th>...</th>\n",
              "      <td>...</td>\n",
              "      <td>...</td>\n",
              "    </tr>\n",
              "    <tr>\n",
              "      <th>68467</th>\n",
              "      <td>Thu Dec 31 22:59:09 2020</td>\n",
              "      <td>[請益] 違約交割處理後股票不見</td>\n",
              "    </tr>\n",
              "    <tr>\n",
              "      <th>68468</th>\n",
              "      <td>Thu Dec 31 23:01:35 2020</td>\n",
              "      <td>[心得] 2020半年總結</td>\n",
              "    </tr>\n",
              "    <tr>\n",
              "      <th>68469</th>\n",
              "      <td>Thu Dec 31 23:04:54 2020</td>\n",
              "      <td>[心得] 2020 已實現損益分享</td>\n",
              "    </tr>\n",
              "    <tr>\n",
              "      <th>68470</th>\n",
              "      <td>Thu Dec 31 23:24:36 2020</td>\n",
              "      <td>[新聞] 2020台股封關兩樣情！這檔股票飆漲2314%</td>\n",
              "    </tr>\n",
              "    <tr>\n",
              "      <th>68471</th>\n",
              "      <td>Thu Dec 31 23:39:58 2020</td>\n",
              "      <td>[新聞] Intel股東建議外包晶片製造</td>\n",
              "    </tr>\n",
              "  </tbody>\n",
              "</table>\n",
              "<p>68472 rows × 2 columns</p>\n",
              "</div>"
            ],
            "text/plain": [
              "                           date                       article\n",
              "0      Mon Jan  1 09:23:39 2018             [新聞] 陸徵環保稅 台商負擔變重\n",
              "1      Mon Jan  1 10:01:50 2018           [新聞] 政策年年改 嚴凱泰：無所適從\n",
              "2      Mon Jan  1 12:13:32 2018                [標的] 3450 聯鈞 多\n",
              "3      Mon Jan  1 13:04:00 2018                  [標的] 8039台虹多\n",
              "4      Mon Jan  1 13:24:11 2018              [請益] 追高殺低長期能賺錢嗎?\n",
              "...                         ...                           ...\n",
              "68467  Thu Dec 31 22:59:09 2020              [請益] 違約交割處理後股票不見\n",
              "68468  Thu Dec 31 23:01:35 2020                 [心得] 2020半年總結\n",
              "68469  Thu Dec 31 23:04:54 2020            [心得] 2020 已實現損益分享 \n",
              "68470  Thu Dec 31 23:24:36 2020  [新聞] 2020台股封關兩樣情！這檔股票飆漲2314%\n",
              "68471  Thu Dec 31 23:39:58 2020          [新聞] Intel股東建議外包晶片製造\n",
              "\n",
              "[68472 rows x 2 columns]"
            ]
          },
          "metadata": {},
          "execution_count": 26
        }
      ]
    },
    {
      "cell_type": "code",
      "metadata": {
        "id": "KJ3X8SOC1TMi"
      },
      "source": [
        "df.to_csv('df.csv')"
      ],
      "execution_count": 27,
      "outputs": []
    },
    {
      "cell_type": "markdown",
      "metadata": {
        "id": "1kDkUHv5HHeM"
      },
      "source": [
        "# Use jieba to implement Chinese word segmentation"
      ]
    },
    {
      "cell_type": "code",
      "metadata": {
        "colab": {
          "base_uri": "https://localhost:8080/"
        },
        "id": "-1dNd9sQvaZU",
        "outputId": "aaf192aa-105f-43cd-e057-8c7d5b39cc96"
      },
      "source": [
        "article = pd.DataFrame({\"Date\":df['date'][0],\n",
        "                        \"articles\":df['article'][0]},index=[0])\n",
        "import jieba\n",
        "jieba.set_dictionary('dict.txt.big.txt')    #switch the dictionary to traditional chinese version\n",
        "jieba.load_userdict('Stocks_list.txt')      #Put the stock name into dictionary"
      ],
      "execution_count": 28,
      "outputs": [
        {
          "output_type": "stream",
          "name": "stderr",
          "text": [
            "Building prefix dict from /content/dict.txt.big.txt ...\n",
            "Dumping model to file cache /tmp/jieba.u43f464b336de155982df71dc6a2e3f9e.cache\n",
            "Loading model cost 1.804 seconds.\n",
            "Prefix dict has been built successfully.\n"
          ]
        }
      ]
    },
    {
      "cell_type": "code",
      "metadata": {
        "colab": {
          "base_uri": "https://localhost:8080/"
        },
        "id": "Dj7jnUQ90ujc",
        "outputId": "463df0c2-1b04-435c-bb52-77b1baabb026"
      },
      "source": [
        "for i in range(0,len(df['article'])):\n",
        "  text = df['article'][i]\n",
        "  date = df['date'][i]\n",
        "  try:\n",
        "    wordlist = jieba.cut(text)\n",
        "    words = \",\".join(wordlist)\n",
        "    words = words.split(',')\n",
        "    for w in words:\n",
        "      if w in stocks_list:\n",
        "        new = pd.DataFrame({\"Date\": date,\n",
        "                            \"articles\":text},index=[0])\n",
        "        article = article.append(new,ignore_index=True)\n",
        "  except:\n",
        "    print(i, text, date)"
      ],
      "execution_count": 29,
      "outputs": [
        {
          "output_type": "stream",
          "name": "stdout",
          "text": [
            "23937 None Sun Feb 24 00:50:51 2019\n",
            "23940 None Sun Feb 24 11:03:40 2019\n",
            "39165 None Thu Jan  2 23:12:20 2020\n",
            "53560 None Sun Jun  7 13:51:29 2020\n",
            "64317 None Wed Oct 28 12:12:50 2020\n"
          ]
        }
      ]
    },
    {
      "cell_type": "code",
      "metadata": {
        "colab": {
          "base_uri": "https://localhost:8080/",
          "height": 424
        },
        "id": "LLv4HDPPJrFV",
        "outputId": "36408e39-7e34-4126-c65f-c51d01323c9b"
      },
      "source": [
        "article"
      ],
      "execution_count": 30,
      "outputs": [
        {
          "output_type": "execute_result",
          "data": {
            "text/html": [
              "<div>\n",
              "<style scoped>\n",
              "    .dataframe tbody tr th:only-of-type {\n",
              "        vertical-align: middle;\n",
              "    }\n",
              "\n",
              "    .dataframe tbody tr th {\n",
              "        vertical-align: top;\n",
              "    }\n",
              "\n",
              "    .dataframe thead th {\n",
              "        text-align: right;\n",
              "    }\n",
              "</style>\n",
              "<table border=\"1\" class=\"dataframe\">\n",
              "  <thead>\n",
              "    <tr style=\"text-align: right;\">\n",
              "      <th></th>\n",
              "      <th>Date</th>\n",
              "      <th>articles</th>\n",
              "    </tr>\n",
              "  </thead>\n",
              "  <tbody>\n",
              "    <tr>\n",
              "      <th>0</th>\n",
              "      <td>Mon Jan  1 09:23:39 2018</td>\n",
              "      <td>[新聞] 陸徵環保稅 台商負擔變重</td>\n",
              "    </tr>\n",
              "    <tr>\n",
              "      <th>1</th>\n",
              "      <td>Mon Jan  1 12:13:32 2018</td>\n",
              "      <td>[標的] 3450 聯鈞 多</td>\n",
              "    </tr>\n",
              "    <tr>\n",
              "      <th>2</th>\n",
              "      <td>Mon Jan  1 13:04:00 2018</td>\n",
              "      <td>[標的] 8039台虹多</td>\n",
              "    </tr>\n",
              "    <tr>\n",
              "      <th>3</th>\n",
              "      <td>Mon Jan  1 16:38:40 2018</td>\n",
              "      <td>[標的] 4401 東隆興 多</td>\n",
              "    </tr>\n",
              "    <tr>\n",
              "      <th>4</th>\n",
              "      <td>Mon Jan  1 16:53:39 2018</td>\n",
              "      <td>[標的] 6223 旺矽 多</td>\n",
              "    </tr>\n",
              "    <tr>\n",
              "      <th>...</th>\n",
              "      <td>...</td>\n",
              "      <td>...</td>\n",
              "    </tr>\n",
              "    <tr>\n",
              "      <th>26601</th>\n",
              "      <td>Thu Dec 31 21:14:58 2020</td>\n",
              "      <td>[標的] 6547 高端疫苗 長線多</td>\n",
              "    </tr>\n",
              "    <tr>\n",
              "      <th>26602</th>\n",
              "      <td>Thu Dec 31 21:17:47 2020</td>\n",
              "      <td>[新聞] 中華電賣華航持股 處分利益1668萬元</td>\n",
              "    </tr>\n",
              "    <tr>\n",
              "      <th>26603</th>\n",
              "      <td>Thu Dec 31 21:17:47 2020</td>\n",
              "      <td>[新聞] 中華電賣華航持股 處分利益1668萬元</td>\n",
              "    </tr>\n",
              "    <tr>\n",
              "      <th>26604</th>\n",
              "      <td>Thu Dec 31 21:21:53 2020</td>\n",
              "      <td>[新聞] 中信金、兆豐、上海3銀行拿到「新財管方</td>\n",
              "    </tr>\n",
              "    <tr>\n",
              "      <th>26605</th>\n",
              "      <td>Thu Dec 31 22:07:36 2020</td>\n",
              "      <td>[新聞] 〈可成售廠〉封關日完成交割 處分利益18</td>\n",
              "    </tr>\n",
              "  </tbody>\n",
              "</table>\n",
              "<p>26606 rows × 2 columns</p>\n",
              "</div>"
            ],
            "text/plain": [
              "                           Date                   articles\n",
              "0      Mon Jan  1 09:23:39 2018          [新聞] 陸徵環保稅 台商負擔變重\n",
              "1      Mon Jan  1 12:13:32 2018             [標的] 3450 聯鈞 多\n",
              "2      Mon Jan  1 13:04:00 2018               [標的] 8039台虹多\n",
              "3      Mon Jan  1 16:38:40 2018            [標的] 4401 東隆興 多\n",
              "4      Mon Jan  1 16:53:39 2018             [標的] 6223 旺矽 多\n",
              "...                         ...                        ...\n",
              "26601  Thu Dec 31 21:14:58 2020         [標的] 6547 高端疫苗 長線多\n",
              "26602  Thu Dec 31 21:17:47 2020   [新聞] 中華電賣華航持股 處分利益1668萬元\n",
              "26603  Thu Dec 31 21:17:47 2020   [新聞] 中華電賣華航持股 處分利益1668萬元\n",
              "26604  Thu Dec 31 21:21:53 2020   [新聞] 中信金、兆豐、上海3銀行拿到「新財管方\n",
              "26605  Thu Dec 31 22:07:36 2020  [新聞] 〈可成售廠〉封關日完成交割 處分利益18\n",
              "\n",
              "[26606 rows x 2 columns]"
            ]
          },
          "metadata": {},
          "execution_count": 30
        }
      ]
    },
    {
      "cell_type": "code",
      "metadata": {
        "id": "RDBM049ZrWWI"
      },
      "source": [
        "article.to_csv('article.csv')"
      ],
      "execution_count": 31,
      "outputs": []
    },
    {
      "cell_type": "code",
      "metadata": {
        "id": "ozUrq3NAC5O1"
      },
      "source": [
        "import pandas as pd\n",
        "df = pd.read_csv('article.csv', index_col=0)"
      ],
      "execution_count": 32,
      "outputs": []
    },
    {
      "cell_type": "code",
      "metadata": {
        "colab": {
          "base_uri": "https://localhost:8080/",
          "height": 424
        },
        "id": "HknCfRV7OuRW",
        "outputId": "be73cb40-0e36-4f1a-ad81-e155fb27ada8"
      },
      "source": [
        "df.drop([0])"
      ],
      "execution_count": 33,
      "outputs": [
        {
          "output_type": "execute_result",
          "data": {
            "text/html": [
              "<div>\n",
              "<style scoped>\n",
              "    .dataframe tbody tr th:only-of-type {\n",
              "        vertical-align: middle;\n",
              "    }\n",
              "\n",
              "    .dataframe tbody tr th {\n",
              "        vertical-align: top;\n",
              "    }\n",
              "\n",
              "    .dataframe thead th {\n",
              "        text-align: right;\n",
              "    }\n",
              "</style>\n",
              "<table border=\"1\" class=\"dataframe\">\n",
              "  <thead>\n",
              "    <tr style=\"text-align: right;\">\n",
              "      <th></th>\n",
              "      <th>Date</th>\n",
              "      <th>articles</th>\n",
              "    </tr>\n",
              "  </thead>\n",
              "  <tbody>\n",
              "    <tr>\n",
              "      <th>1</th>\n",
              "      <td>Mon Jan  1 12:13:32 2018</td>\n",
              "      <td>[標的] 3450 聯鈞 多</td>\n",
              "    </tr>\n",
              "    <tr>\n",
              "      <th>2</th>\n",
              "      <td>Mon Jan  1 13:04:00 2018</td>\n",
              "      <td>[標的] 8039台虹多</td>\n",
              "    </tr>\n",
              "    <tr>\n",
              "      <th>3</th>\n",
              "      <td>Mon Jan  1 16:38:40 2018</td>\n",
              "      <td>[標的] 4401 東隆興 多</td>\n",
              "    </tr>\n",
              "    <tr>\n",
              "      <th>4</th>\n",
              "      <td>Mon Jan  1 16:53:39 2018</td>\n",
              "      <td>[標的] 6223 旺矽 多</td>\n",
              "    </tr>\n",
              "    <tr>\n",
              "      <th>5</th>\n",
              "      <td>Mon Jan  1 21:12:25 2018</td>\n",
              "      <td>[標的] 4535 至興</td>\n",
              "    </tr>\n",
              "    <tr>\n",
              "      <th>...</th>\n",
              "      <td>...</td>\n",
              "      <td>...</td>\n",
              "    </tr>\n",
              "    <tr>\n",
              "      <th>26601</th>\n",
              "      <td>Thu Dec 31 21:14:58 2020</td>\n",
              "      <td>[標的] 6547 高端疫苗 長線多</td>\n",
              "    </tr>\n",
              "    <tr>\n",
              "      <th>26602</th>\n",
              "      <td>Thu Dec 31 21:17:47 2020</td>\n",
              "      <td>[新聞] 中華電賣華航持股 處分利益1668萬元</td>\n",
              "    </tr>\n",
              "    <tr>\n",
              "      <th>26603</th>\n",
              "      <td>Thu Dec 31 21:17:47 2020</td>\n",
              "      <td>[新聞] 中華電賣華航持股 處分利益1668萬元</td>\n",
              "    </tr>\n",
              "    <tr>\n",
              "      <th>26604</th>\n",
              "      <td>Thu Dec 31 21:21:53 2020</td>\n",
              "      <td>[新聞] 中信金、兆豐、上海3銀行拿到「新財管方</td>\n",
              "    </tr>\n",
              "    <tr>\n",
              "      <th>26605</th>\n",
              "      <td>Thu Dec 31 22:07:36 2020</td>\n",
              "      <td>[新聞] 〈可成售廠〉封關日完成交割 處分利益18</td>\n",
              "    </tr>\n",
              "  </tbody>\n",
              "</table>\n",
              "<p>26605 rows × 2 columns</p>\n",
              "</div>"
            ],
            "text/plain": [
              "                           Date                   articles\n",
              "1      Mon Jan  1 12:13:32 2018             [標的] 3450 聯鈞 多\n",
              "2      Mon Jan  1 13:04:00 2018               [標的] 8039台虹多\n",
              "3      Mon Jan  1 16:38:40 2018            [標的] 4401 東隆興 多\n",
              "4      Mon Jan  1 16:53:39 2018             [標的] 6223 旺矽 多\n",
              "5      Mon Jan  1 21:12:25 2018               [標的] 4535 至興\n",
              "...                         ...                        ...\n",
              "26601  Thu Dec 31 21:14:58 2020         [標的] 6547 高端疫苗 長線多\n",
              "26602  Thu Dec 31 21:17:47 2020   [新聞] 中華電賣華航持股 處分利益1668萬元\n",
              "26603  Thu Dec 31 21:17:47 2020   [新聞] 中華電賣華航持股 處分利益1668萬元\n",
              "26604  Thu Dec 31 21:21:53 2020   [新聞] 中信金、兆豐、上海3銀行拿到「新財管方\n",
              "26605  Thu Dec 31 22:07:36 2020  [新聞] 〈可成售廠〉封關日完成交割 處分利益18\n",
              "\n",
              "[26605 rows x 2 columns]"
            ]
          },
          "metadata": {},
          "execution_count": 33
        }
      ]
    }
  ]
}